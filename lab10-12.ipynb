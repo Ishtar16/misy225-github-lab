{
 "cells": [
  {
   "cell_type": "code",
   "execution_count": null,
   "metadata": {},
   "outputs": [],
   "source": [
    "this is me"
   ]
  }
 ],
 "metadata": {
  "kernelspec": {
   "display_name": "Python 3.7.13 ('ds')",
   "language": "python",
   "name": "python3"
  },
  "language_info": {
   "name": "python",
   "version": "3.7.13"
  },
  "orig_nbformat": 4,
  "vscode": {
   "interpreter": {
    "hash": "9823bedd21bbed1989878c869c8b788a2b78baf9c011319e3030a29dd6e0135e"
   }
  }
 },
 "nbformat": 4,
 "nbformat_minor": 2
}
